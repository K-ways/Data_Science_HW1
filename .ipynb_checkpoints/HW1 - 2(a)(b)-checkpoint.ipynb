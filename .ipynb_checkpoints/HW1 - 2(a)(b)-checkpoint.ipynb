{
 "cells": [
  {
   "cell_type": "markdown",
   "metadata": {},
   "source": [
    "# 所有 twitter 數量"
   ]
  },
  {
   "cell_type": "code",
   "execution_count": 1,
   "metadata": {
    "collapsed": false
   },
   "outputs": [
    {
     "data": {
      "text/plain": [
       "113"
      ]
     },
     "execution_count": 1,
     "metadata": {},
     "output_type": "execute_result"
    }
   ],
   "source": [
    "import pyes\n",
    "es_address='127.0.0.1:9200'\n",
    "\n",
    "conn = pyes.es.ES(es_address)\n",
    "\n",
    "q = pyes.query.MatchAllQuery()\n",
    "\n",
    "result = conn.search(query=q , indices='twitter2' , doc_types='user') \n",
    "len(result)"
   ]
  },
  {
   "cell_type": "markdown",
   "metadata": {},
   "source": [
    "# 所有 tweets 數量"
   ]
  },
  {
   "cell_type": "code",
   "execution_count": 2,
   "metadata": {
    "collapsed": false
   },
   "outputs": [
    {
     "data": {
      "text/plain": [
       "392792"
      ]
     },
     "execution_count": 2,
     "metadata": {},
     "output_type": "execute_result"
    }
   ],
   "source": [
    "import pyes\n",
    "es_address='127.0.0.1:9200'\n",
    "conn = pyes.es.ES(es_address)\n",
    "\n",
    "q = pyes.query.MatchAllQuery()\n",
    "\n",
    "result = conn.search(query=q , indices='twitter2' , doc_types='tweet') \n",
    "len(result)"
   ]
  },
  {
   "cell_type": "markdown",
   "metadata": {},
   "source": [
    "# 共計有多少 Twitter 參與 CVE 關鍵字議題討論？\n",
    "使用 set 來儲存不重複的 User id。\n",
    "使用 Term Query，value 中必須使用小寫！"
   ]
  },
  {
   "cell_type": "code",
   "execution_count": 3,
   "metadata": {
    "collapsed": false
   },
   "outputs": [
    {
     "name": "stdout",
     "output_type": "stream",
     "text": [
      "Tweets 數量 : 644\n",
      "Twitter 數量 : 71\n"
     ]
    }
   ],
   "source": [
    "q = pyes.query.BoolQuery() # BoolQuery本身是一個Query的組合，可以使用add_must(), add_must_not(), add_should()來使用。\n",
    "storage = set() # 用 set 來儲存不重複的元素\n",
    "\n",
    "tq = pyes.query.TermQuery(field=\"text\", value=\"cve\")\n",
    "q.add_must(tq)\n",
    "\n",
    "result = conn.search(query=q , indices='twitter2' , doc_types='tweet') \n",
    "print \"Tweets 數量 :\",\n",
    "print len(result) # 未過濾重複發文者的id\n",
    "\n",
    "for x in result:\n",
    "    storage.add(x['uid'])\n",
    "print \"Twitter 數量 :\",\n",
    "print len(storage) # 過濾重複發文者的id"
   ]
  },
  {
   "cell_type": "markdown",
   "metadata": {},
   "source": [
    "# 共計有多少 Twitter 參與 Vulnerability 關鍵字議題討論？"
   ]
  },
  {
   "cell_type": "code",
   "execution_count": 4,
   "metadata": {
    "collapsed": false
   },
   "outputs": [
    {
     "name": "stdout",
     "output_type": "stream",
     "text": [
      "Tweets 數量 : 2242\n",
      "Twitter 數量 : 96\n"
     ]
    }
   ],
   "source": [
    "q = pyes.query.BoolQuery() # BoolQuery本身是一個Query的組合，可以使用add_must(), add_must_not(), add_should()來使用。\n",
    "storage = set() # 用 set 來儲存不重複的元素\n",
    "\n",
    "tq = pyes.query.TermQuery(field=\"text\", value=\"vulnerability\")\n",
    "q.add_must(tq)\n",
    "\n",
    "result = conn.search(query=q , indices='twitter2' , doc_types='tweet') \n",
    "print \"Tweets 數量 :\",\n",
    "print len(result) # 未過濾重複發文者的id\n",
    "\n",
    "for x in result:\n",
    "    storage.add(x['uid'])\n",
    "print \"Twitter 數量 :\",\n",
    "print len(storage) # 過濾重複發文者的id"
   ]
  },
  {
   "cell_type": "markdown",
   "metadata": {},
   "source": [
    "# 共計有多少 Twitter 參與 Exploit 關鍵字議題討論？"
   ]
  },
  {
   "cell_type": "code",
   "execution_count": 5,
   "metadata": {
    "collapsed": false
   },
   "outputs": [
    {
     "name": "stdout",
     "output_type": "stream",
     "text": [
      "Tweets 數量 : 1969\n",
      "Twitter 數量 : 89\n"
     ]
    }
   ],
   "source": [
    "q = pyes.query.BoolQuery() # BoolQuery本身是一個Query的組合，可以使用add_must(), add_must_not(), add_should()來使用。\n",
    "storage = set() # 用 set 來儲存不重複的元素\n",
    "\n",
    "tq = pyes.query.TermQuery(field=\"text\", value=\"exploit\")\n",
    "q.add_must(tq)\n",
    "\n",
    "result = conn.search(query=q , indices='twitter2' , doc_types='tweet') \n",
    "print \"Tweets 數量 :\",\n",
    "print len(result) # 未過濾重複發文者的id\n",
    "\n",
    "for x in result:\n",
    "    storage.add(x['uid'])\n",
    "print \"Twitter 數量 :\",\n",
    "print len(storage) # 過濾重複發文者的id"
   ]
  }
 ],
 "metadata": {
  "anaconda-cloud": {},
  "kernelspec": {
   "display_name": "Python [conda root]",
   "language": "python",
   "name": "conda-root-py"
  },
  "language_info": {
   "codemirror_mode": {
    "name": "ipython",
    "version": 2
   },
   "file_extension": ".py",
   "mimetype": "text/x-python",
   "name": "python",
   "nbconvert_exporter": "python",
   "pygments_lexer": "ipython2",
   "version": "2.7.12"
  }
 },
 "nbformat": 4,
 "nbformat_minor": 1
}
