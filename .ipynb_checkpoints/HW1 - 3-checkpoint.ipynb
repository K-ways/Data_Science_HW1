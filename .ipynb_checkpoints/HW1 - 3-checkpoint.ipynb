{
 "cells": [
  {
   "cell_type": "markdown",
   "metadata": {},
   "source": [
    "# 感興趣的Twitter帳號\n",
    "### 將前 20 位最多 follower 的帳號作為「興趣對象」，把所有發過的 Tweets 文字轉換為 list 元素，再從 list 當中找出最常出現的單字。\n",
    "#### 文字擷取\n",
    "##### http://stackoverflow.com/questions/10390989/python-program-that-finds-most-frequent-word-in-a-txt-file-must-print-word-and\n",
    "##### http://stackoverflow.com/questions/3594514/how-to-find-most-common-elements-of-a-list\n",
    "##### http://stackoverflow.com/questions/5239781/finding-the-most-popular-words-in-a-list\n",
    "#### 決策樹\n",
    "##### http://www.jianshu.com/p/c8f1f516e9ea\n",
    "##### https://zhuanlan.zhihu.com/p/20794583"
   ]
  },
  {
   "cell_type": "markdown",
   "metadata": {
    "collapsed": true
   },
   "source": [
    "# 將 2-(g) 的指標帳號分析結果存為 id"
   ]
  },
  {
   "cell_type": "code",
   "execution_count": 1,
   "metadata": {
    "collapsed": false
   },
   "outputs": [
    {
     "name": "stdout",
     "output_type": "stream",
     "text": [
      "Top 20 user's id:\n",
      "14666934\n",
      "297856522\n",
      "23566038\n",
      "22790881\n",
      "18789893\n",
      "18476766\n",
      "19206209\n",
      "14669471\n",
      "14181505\n",
      "65845659\n",
      "14924745\n",
      "16730420\n",
      "8917142\n",
      "64677310\n",
      "11791512\n",
      "198365324\n",
      "38956896\n",
      "48443\n",
      "17767238\n",
      "14293266\n"
     ]
    }
   ],
   "source": [
    "import pyes\n",
    "es_address='127.0.0.1:9200'\n",
    "\n",
    "conn = pyes.es.ES(es_address)\n",
    "\n",
    "q = pyes.query.MatchAllQuery()\n",
    "sfc = list()\n",
    "dfc = dict()\n",
    "\n",
    "result = conn.search(query=q , indices='twitter2' , doc_types='user') \n",
    "\n",
    "for x in result:\n",
    "    \n",
    "    # 將使用者名稱與 followers_count 編入 dict。\n",
    "    if x['followers_count'] in dfc:\n",
    "        dfc[x['followers_count']].append(x['uid'])\n",
    "    else:\n",
    "        dfc[x['followers_count']] = [x['uid']]\n",
    "        \n",
    "    # 將所有使用者的 follower 數量拉出來等待排序。\n",
    "    sfc.append(x['followers_count']) \n",
    "\n",
    "sfc.sort(reverse=True) # 將 list 排序。\n",
    "\n",
    "\n",
    "print \"Top 20 user's id:\"\n",
    "for y in range(20): # 前 20 名的帳號 id。\n",
    "    print \"\".join(str(dfc[sfc[y]])[1:-1]) # 將排序的id資料從dict取出，轉換為string，拿掉中括弧，最後將list轉換為string。"
   ]
  },
  {
   "cell_type": "markdown",
   "metadata": {},
   "source": [
    "# 將分析結果中第 1 名帳號之所有貼文拉下來並拆成文字"
   ]
  },
  {
   "cell_type": "code",
   "execution_count": 2,
   "metadata": {
    "collapsed": false
   },
   "outputs": [],
   "source": [
    "AllWords = list()\n",
    "\n",
    "q = pyes.query.BoolQuery() # BoolQuery本身是一個Query的組合，可以使用add_must(), add_must_not(), add_should()來使用。\n",
    "\n",
    "tq = pyes.query.TermQuery(field=\"uid\", value=\"\".join(str(dfc[sfc[0]])[1:-1]))\n",
    "q.add_must(tq)\n",
    "\n",
    "result = conn.search(query=q , indices='twitter2' , doc_types='tweet') \n",
    "\n",
    "for z in result: # 將所有string切成list\n",
    "    AllWords = AllWords + z['text'].split()\n",
    "    \n",
    "for a in range(0, len(AllWords)): # 將list中的元素解碼(去除u'[])\n",
    "    AllWords[a] = AllWords[a].encode('utf-8')\n",
    "    \n",
    "#print AllWords"
   ]
  },
  {
   "cell_type": "markdown",
   "metadata": {
    "collapsed": true
   },
   "source": [
    "# 找出句子中出現次數最多的前 10 個單字"
   ]
  },
  {
   "cell_type": "code",
   "execution_count": 3,
   "metadata": {
    "collapsed": false
   },
   "outputs": [
    {
     "name": "stdout",
     "output_type": "stream",
     "text": [
      "[('I', 1027), ('RT', 545), ('The', 211), ('LOL', 206), ('NSA', 150), ('Snowden', 124), ('Just', 106), ('If', 80), ('So', 80), ('You', 78)]\n"
     ]
    }
   ],
   "source": [
    "from collections import Counter\n",
    "\n",
    "words_to_count = (word for word in AllWords if word[:1].isupper())\n",
    "c = Counter(words_to_count)\n",
    "print c.most_common(10)"
   ]
  },
  {
   "cell_type": "markdown",
   "metadata": {},
   "source": [
    "# 將前 20 個帳號之所有貼文拉下來分析「共通的」前 40 名單字"
   ]
  },
  {
   "cell_type": "code",
   "execution_count": 4,
   "metadata": {
    "collapsed": false
   },
   "outputs": [
    {
     "name": "stdout",
     "output_type": "stream",
     "text": [
      "[('RT', 12612), ('I', 9747), ('The', 4601), ('Security', 3076), ('New', 1552), ('How', 1495), ('US', 1391), (\"I'm\", 1338), ('A', 1329), ('This', 1194), ('You', 1143), ('If', 1115), ('Google', 1082), ('We', 1060), ('ISO', 1054), ('NSA', 1039), ('What', 983), ('It', 888), ('Facebook', 836), (\"It's\", 804), ('In', 798), ('Affairs', 732), ('Internet', 640), ('My', 635), ('Just', 607), ('Apple', 600), ('FBI', 597), ('Microsoft', 595), ('From', 585), ('Thanks', 575), ('Cyber', 559), ('Twitter', 553), ('Squid', 549), ('Not', 545), ('Is', 538), ('Data', 529), ('Your', 524), ('Android', 522), ('No', 517), ('Amazon', 496)]\n"
     ]
    }
   ],
   "source": [
    "import pyes\n",
    "from collections import Counter\n",
    "\n",
    "es_address='127.0.0.1:9200'\n",
    "conn = pyes.es.ES(es_address)\n",
    "\n",
    "mq = pyes.query.MatchAllQuery()\n",
    "sfc = list()\n",
    "dfc = dict()\n",
    "\n",
    "result = conn.search(query=mq , indices='twitter2' , doc_types='user') \n",
    "\n",
    "for x in result:\n",
    "    \n",
    "    # 將使用者名稱與 followers_count 編入 dict。\n",
    "    if x['followers_count'] in dfc:\n",
    "        dfc[x['followers_count']].append(x['uid'])\n",
    "    else:\n",
    "        dfc[x['followers_count']] = [x['uid']]\n",
    "        \n",
    "    # 將所有使用者的 follower 數量拉出來等待排序。\n",
    "    sfc.append(x['followers_count']) \n",
    "\n",
    "sfc.sort(reverse=True) # 將 list 排序。\n",
    "\n",
    "\n",
    "AllUserAllWords = list()\n",
    "for u in range(20):\n",
    "    q = pyes.query.BoolQuery() # BoolQuery本身是一個Query的組合，可以使用add_must(), add_must_not(), add_should()來使用。\n",
    "    AllWords = list()\n",
    "    tq = pyes.query.TermQuery(field=\"uid\", value=\"\".join(str(dfc[sfc[u]])[1:-1]))\n",
    "    q.add_must(tq)\n",
    "\n",
    "    result = conn.search(query=q , indices='twitter2' , doc_types='tweet') \n",
    "\n",
    "    for z in result: # 將所有string切成list\n",
    "        AllWords = AllWords + z['text'].split()\n",
    "\n",
    "    for a in range(len(AllWords)): # 將list中的元素解碼(去除u'[])\n",
    "        AllWords[a] = AllWords[a].encode('utf-8')\n",
    "\n",
    "    AllUserAllWords = AllUserAllWords + AllWords\n",
    "        \n",
    "words_to_count = (word for word in AllUserAllWords if word[:1].isupper())\n",
    "c = Counter(words_to_count)\n",
    "print c.most_common(40)"
   ]
  },
  {
   "cell_type": "markdown",
   "metadata": {},
   "source": [
    "##### 結論：採用 Security、ISIS、Terrorism、ISO 4 個字詞\n",
    "將使用者分類為「Security（資安專家）」、「News_follower（新聞關注者）」、「Standard_Organization（國際標準化組織）」3 個標籤 (Class)。"
   ]
  },
  {
   "cell_type": "markdown",
   "metadata": {},
   "source": [
    "# 將文字資料整理至表格"
   ]
  },
  {
   "cell_type": "code",
   "execution_count": 5,
   "metadata": {
    "collapsed": false
   },
   "outputs": [
    {
     "name": "stdout",
     "output_type": "stream",
     "text": [
      "    Security  ISIS  Terrorism   ISO                  Class\n",
      "0         13     0          0     0               Security\n",
      "1         61     1          0     0               Security\n",
      "2         12     3          0     0               Security\n",
      "3         23     0          0     0               Security\n",
      "4         54     0          1     0               Security\n",
      "5        269     3         22     0          News_follower\n",
      "6        244     0          0     0               Security\n",
      "7         41    12          0     0          News_follower\n",
      "8         55     1          0     0               Security\n",
      "9         22     0          0     0               Security\n",
      "10        32     0          0     0               Security\n",
      "11       168     1          0     0               Security\n",
      "12        14     3          1     6  Standard_Organization\n",
      "13      1555     9          2  1044  Standard_Organization\n",
      "14        72    10          0     0          News_follower\n",
      "15       175     1          0     0               Security\n",
      "16        92     0          0     0               Security\n",
      "17        44     0          0     1               Security\n",
      "18        78     8          0     2               Security\n",
      "19        52     0          0     1               Security\n"
     ]
    }
   ],
   "source": [
    "import pandas as pd\n",
    "import pyes\n",
    "from collections import Counter\n",
    "\n",
    "es_address='127.0.0.1:9200'\n",
    "conn = pyes.es.ES(es_address)\n",
    "\n",
    "mq = pyes.query.MatchAllQuery()\n",
    "sfc = list()\n",
    "dfc = dict()\n",
    "\n",
    "security = [0, 0, 0, 0, 0, 0, 0, 0, 0, 0, 0, 0, 0, 0, 0, 0, 0, 0, 0, 0]\n",
    "isis = [0, 0, 0, 0, 0, 0, 0, 0, 0, 0, 0, 0, 0, 0, 0, 0, 0, 0, 0, 0]\n",
    "terrorism = [0, 0, 0, 0, 0, 0, 0, 0, 0, 0, 0, 0, 0, 0, 0, 0, 0, 0, 0, 0]\n",
    "iso = [0, 0, 0, 0, 0, 0, 0, 0, 0, 0, 0, 0, 0, 0, 0, 0, 0, 0, 0, 0]\n",
    "label = ['Security', 'Security', 'Security', 'Security', 'Security',\n",
    "         'News_follower', 'Security', 'News_follower', 'Security', 'Security', \n",
    "         'Security', 'Security', 'Standard_Organization', 'Standard_Organization', 'News_follower', \n",
    "         'Security', 'Security', 'Security', 'Security', 'Security', ]\n",
    "\n",
    "result = conn.search(query=mq , indices='twitter2' , doc_types='user') \n",
    "\n",
    "for x in result:\n",
    "    \n",
    "    # 將使用者名稱與 followers_count 編入 dict。\n",
    "    if x['followers_count'] in dfc:\n",
    "        dfc[x['followers_count']].append(x['uid'])\n",
    "    else:\n",
    "        dfc[x['followers_count']] = [x['uid']]\n",
    "        \n",
    "    # 將所有使用者的 follower 數量拉出來等待排序。\n",
    "    sfc.append(x['followers_count']) \n",
    "\n",
    "sfc.sort(reverse=True) # 將 list 排序。\n",
    "\n",
    "\n",
    "for u in range(20):\n",
    "    q = pyes.query.BoolQuery() # BoolQuery本身是一個Query的組合，可以使用add_must(), add_must_not(), add_should()來使用。\n",
    "    AllWords = list()\n",
    "    tq = pyes.query.TermQuery(field=\"uid\", value=\"\".join(str(dfc[sfc[u]])[1:-1]))\n",
    "    q.add_must(tq)\n",
    "\n",
    "    result = conn.search(query=q , indices='twitter2' , doc_types='tweet') \n",
    "\n",
    "    for z in result: # 將所有string切成list\n",
    "        AllWords = AllWords + z['text'].split()\n",
    "\n",
    "    for a in range(len(AllWords)): # 將list中的元素解碼(去除u'[])\n",
    "        AllWords[a] = AllWords[a].encode('utf-8')\n",
    "\n",
    "    words_to_count = (word for word in AllWords if word[:1].isupper())\n",
    "    c = Counter(words_to_count)\n",
    "    security[u] = c['Security']\n",
    "    isis[u] = c['ISIS']\n",
    "    terrorism[u] = c['Terrorism']\n",
    "    iso[u] = c['ISO']\n",
    "\n",
    "s0 = pd.Series(security, name = 'Security')\n",
    "s1 = pd.Series(isis, name = 'ISIS')\n",
    "s2 = pd.Series(terrorism, name = 'Terrorism')\n",
    "s3 = pd.Series(iso, name = 'ISO')\n",
    "s4 = pd.Series(label, name = 'Class')\n",
    "barResult = pd.concat([s0, s1, s2, s3, s4], axis=1)\n",
    "print barResult"
   ]
  },
  {
   "cell_type": "markdown",
   "metadata": {},
   "source": [
    "# 決策樹"
   ]
  },
  {
   "cell_type": "code",
   "execution_count": 6,
   "metadata": {
    "collapsed": false
   },
   "outputs": [
    {
     "name": "stderr",
     "output_type": "stream",
     "text": [
      "//anaconda/lib/python2.7/site-packages/sklearn/cross_validation.py:516: Warning: The least populated class in y has only 2 members, which is too few. The minimum number of labels for any class cannot be less than n_folds=10.\n",
      "  % (min_labels, self.n_folds)), Warning)\n"
     ]
    },
    {
     "name": "stdout",
     "output_type": "stream",
     "text": [
      "Best score: 0.85\n",
      "Best parameters: {'max_features': 1, 'max_depth': 1}\n"
     ]
    }
   ],
   "source": [
    "%matplotlib inline\n",
    "from sklearn.cross_validation import train_test_split\n",
    "from sklearn.tree import DecisionTreeClassifier\n",
    "from sklearn.cross_validation import StratifiedKFold\n",
    "from sklearn.grid_search import GridSearchCV\n",
    "import seaborn as sb\n",
    "import matplotlib.pyplot as plt\n",
    "import numpy as np\n",
    "\n",
    "# We can extract the data in this format from pandas like this:\n",
    "all_inputs = barResult[['Security', 'ISIS',\n",
    "                        'Terrorism', 'ISO']].values\n",
    "\n",
    "# Similarly, we can extract the classes\n",
    "all_classes = barResult['Class'].values\n",
    "\n",
    "(training_inputs,\n",
    " testing_inputs,\n",
    " training_classes,\n",
    " testing_classes) = train_test_split(all_inputs, all_classes, train_size=0.75, random_state=1)\n",
    "\n",
    "# Create the classifier\n",
    "decision_tree_classifier = DecisionTreeClassifier()\n",
    "\n",
    "# Train the classifier on the training set\n",
    "decision_tree_classifier.fit(training_inputs, training_classes)\n",
    "\n",
    "# Validate the classifier on the testing set using classification accuracy\n",
    "decision_tree_classifier.score(testing_inputs, testing_classes)\n",
    "\n",
    "parameter_grid = {'max_depth': [1, 2, 3, 4, 5],\n",
    "                  'max_features': [1, 2, 3, 4]}\n",
    "\n",
    "cross_validation = StratifiedKFold(all_classes, n_folds=10)\n",
    "\n",
    "grid_search = GridSearchCV(decision_tree_classifier,\n",
    "                           param_grid=parameter_grid,\n",
    "                           cv=cross_validation)\n",
    "\n",
    "grid_search.fit(all_inputs, all_classes)\n",
    "print('Best score: {}'.format(grid_search.best_score_))\n",
    "print('Best parameters: {}'.format(grid_search.best_params_))"
   ]
  },
  {
   "cell_type": "markdown",
   "metadata": {},
   "source": [
    "# Heat Map"
   ]
  },
  {
   "cell_type": "code",
   "execution_count": 7,
   "metadata": {
    "collapsed": false
   },
   "outputs": [
    {
     "data": {
      "text/plain": [
       "<matplotlib.text.Text at 0x11a398790>"
      ]
     },
     "execution_count": 7,
     "metadata": {},
     "output_type": "execute_result"
    },
    {
     "data": {
      "image/png": "[encoded data removed]",
      "text/plain": [
       "<matplotlib.figure.Figure at 0x104d32790>"
      ]
     },
     "metadata": {},
     "output_type": "display_data"
    }
   ],
   "source": [
    "grid_visualization = []\n",
    "\n",
    "for grid_pair in grid_search.grid_scores_:\n",
    "    grid_visualization.append(grid_pair.mean_validation_score)\n",
    "    \n",
    "grid_visualization = np.array(grid_visualization)\n",
    "grid_visualization.shape = (5, 4)\n",
    "sb.heatmap(grid_visualization, cmap='Blues')\n",
    "plt.xticks(np.arange(4) + 0.5, grid_search.param_grid['max_features'])\n",
    "plt.yticks(np.arange(5) + 0.5, grid_search.param_grid['max_depth'][::-1])\n",
    "plt.xlabel('max_features')\n",
    "plt.ylabel('max_depth')"
   ]
  }
 ],
 "metadata": {
  "anaconda-cloud": {},
  "kernelspec": {
   "display_name": "Python [conda root]",
   "language": "python",
   "name": "conda-root-py"
  },
  "language_info": {
   "codemirror_mode": {
    "name": "ipython",
    "version": 2
   },
   "file_extension": ".py",
   "mimetype": "text/x-python",
   "name": "python",
   "nbconvert_exporter": "python",
   "pygments_lexer": "ipython2",
   "version": "2.7.12"
  }
 },
 "nbformat": 4,
 "nbformat_minor": 1
}
