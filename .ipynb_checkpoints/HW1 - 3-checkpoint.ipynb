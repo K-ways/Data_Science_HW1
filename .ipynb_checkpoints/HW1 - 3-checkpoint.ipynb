{
 "cells": [
  {
   "cell_type": "markdown",
   "metadata": {},
   "source": [
    "# 感興趣的Twitter帳號\n",
    "### 將前 20 位最多 follower 的帳號作為「興趣對象」，把所有發過的 Tweets 文字轉換為 list 元素，再從 list 當中找出最常出現的單字。\n",
    "#### 文字擷取\n",
    "##### http://stackoverflow.com/questions/10390989/python-program-that-finds-most-frequent-word-in-a-txt-file-must-print-word-and\n",
    "##### http://stackoverflow.com/questions/3594514/how-to-find-most-common-elements-of-a-list\n",
    "##### http://stackoverflow.com/questions/5239781/finding-the-most-popular-words-in-a-list\n",
    "#### 決策樹\n",
    "##### http://www.jianshu.com/p/c8f1f516e9ea\n",
    "##### https://zhuanlan.zhihu.com/p/20794583"
   ]
  },
  {
   "cell_type": "code",
   "execution_count": null,
   "metadata": {
    "collapsed": true
   },
   "outputs": [],
   "source": []
  }
 ],
 "metadata": {
  "kernelspec": {
   "display_name": "Python [conda root]",
   "language": "python",
   "name": "conda-root-py"
  },
  "language_info": {
   "codemirror_mode": {
    "name": "ipython",
    "version": 2
   },
   "file_extension": ".py",
   "mimetype": "text/x-python",
   "name": "python",
   "nbconvert_exporter": "python",
   "pygments_lexer": "ipython2",
   "version": "2.7.12"
  }
 },
 "nbformat": 4,
 "nbformat_minor": 1
}
