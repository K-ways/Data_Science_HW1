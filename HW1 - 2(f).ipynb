{
 "cells": [
  {
   "cell_type": "markdown",
   "metadata": {},
   "source": [
    "# 各 Twitter 所提到 CVE 的箱型圖\n",
    "#### 箱型圖的繪製。\n",
    "##### 參考來源：http://stackoverflow.com/questions/29647145/setting-flier-outlier-style-in-seaborn-boxplot-is-ignored\n",
    "#### 每個 dict 中的元素長度必須相同，所以必須將沒有資料的欄位填上 NaN。\n",
    "##### 參考來源：http://stackoverflow.com/questions/19736080/creating-dataframe-from-a-dictionary-where-entries-have-different-lengths"
   ]
  },
  {
   "cell_type": "code",
   "execution_count": 1,
   "metadata": {
    "collapsed": false
   },
   "outputs": [
    {
     "name": "stdout",
     "output_type": "stream",
     "text": [
      "     1   2   3   4   5   6   7     8     9     10    11    12\n",
      "0   0.0   0   0   0   0   0   1   0.0   0.0   0.0   0.0   0.0\n",
      "1   1.0   0   0   0   0   0   0   0.0   0.0   0.0   1.0   0.0\n",
      "2   1.0   0   1   0   0   2   1   0.0   3.0   1.0   0.0   1.0\n",
      "3   5.0   1   0   2   0   0   1   0.0   2.0   2.0   0.0   1.0\n",
      "4   2.0   3   1   2   1   2   2   4.0   0.0   0.0   0.0   0.0\n",
      "5   5.0   3   0   4   4   7   1   3.0   4.0  15.0  14.0   4.0\n",
      "6  27.0  17  19  21  17  15  10  12.0  55.0  56.0  27.0  11.0\n",
      "7   NaN  26  52  35  21  61  54   NaN   NaN   NaN   NaN   NaN \n",
      "\n",
      "     1   2   3   4   5   6   7    8     9     10    11   12\n",
      "0   0.0   0   0   0   0   0   1  0.0   0.0   0.0   0.0  0.0\n",
      "1   1.0   0   0   0   0   0   0  0.0   0.0   0.0   1.0  0.0\n",
      "2   1.0   0   1   0   0   1   1  0.0   3.0   1.0   0.0  1.0\n",
      "3   2.0   1   0   2   0   0   1  0.0   2.0   1.0   0.0  1.0\n",
      "4   2.0   3   1   2   1   1   1  2.0   0.0   0.0   0.0  0.0\n",
      "5   3.0   2   0   4   4   4   1  3.0   3.0   8.0  11.0  3.0\n",
      "6  15.0  10  10  13  10  11   6  8.0  28.0  27.0  10.0  6.0\n",
      "7   NaN  13  19  16  16  15  13  NaN   NaN   NaN   NaN  NaN\n"
     ]
    }
   ],
   "source": [
    "# This line tells the notebook to show plots inside of the notebook\n",
    "%matplotlib inline\n",
    "import pandas as pd\n",
    "from pandas import DataFrame, Series\n",
    "import matplotlib.pyplot as plt\n",
    "import seaborn as sb\n",
    "sb.set_style(\"whitegrid\")\n",
    "import pyes\n",
    "from datetime import datetime\n",
    "from calendar import monthrange\n",
    "\n",
    "es_address='127.0.0.1:9200'\n",
    "conn = pyes.es.ES(es_address)\n",
    "\n",
    "Month_Twitter = dict()\n",
    "Month_Tweets = dict()\n",
    "\n",
    "# 用來把簡單的時間轉換成超複雜的Twitter用時間\n",
    "def dtConvert(s):\n",
    "    date_object = datetime.strptime(s, '%Y %m %d %X') # 定義輸入進來的簡單時間格式\n",
    "    dt_str = date_object.ctime() # 把格式轉換成 Twitter 的 G8 時間格式(但時區未包含在內)\n",
    "    dt_list = dt_str.split() # 為了把時區塞進去，要先把 String 切成 list\n",
    "    dt_list.insert(4, '+0000') # 在 list 中的第四個位置塞入時區資料\n",
    "    dt_result = ' '.join(dt_list) # 把 list 轉回 string 並以空白區隔\n",
    "    return dt_result # 完成並回傳結果\n",
    "\n",
    "# 將某月的資料爬出來並計算結果\n",
    "def queryResult(Sfrom, Sto, Y, M):\n",
    "    q = pyes.query.BoolQuery()\n",
    "    ESR = pyes.ESRange(field=\"created_at\", from_value=Sfrom, to_value=Sto, include_lower=True ,include_upper=True)\n",
    "    rq = pyes.query.RangeQuery(qrange=ESR)\n",
    "    tq = pyes.query.TermQuery(field=\"text\", value=\"cve\")\n",
    "\n",
    "    q.add_must(tq)\n",
    "    q.add_must(rq)\n",
    "    result = None\n",
    "    result = conn.search(query=q , indices='twitter2' , doc_types='tweet') \n",
    "    \n",
    "    # 將每個月的 Tweets 數量寫入 dict。\n",
    "    if M in Month_Tweets:\n",
    "        Month_Tweets[M].append(len(result))\n",
    "    else:\n",
    "        Month_Tweets[M] = [len(result)]\n",
    "\n",
    "    # 將每個月的 Twitter 數量寫入 list。\n",
    "    storage = set() # 用 set 來儲存不重複的元素。\n",
    "    for x in result:\n",
    "        if 'uid' in x:                          # 2014年7月有一筆資料的 uid Missing，所以用 if 來處理並忽略。\n",
    "            storage.add(x['uid'])\n",
    "    if M in Month_Twitter:\n",
    "        Month_Twitter[M].append(len(storage))\n",
    "    else:\n",
    "        Month_Twitter[M] = [len(storage)]\n",
    "    return\n",
    "\n",
    "# 主程式\n",
    "# 資料從2008年2月1日開始到2015年7月31日\n",
    "for y in range(2008, 2016):\n",
    "    for m in range(1, 13):\n",
    "        if y == 2008 and m < 2:\n",
    "            None\n",
    "        elif y == 2015 and m > 7:\n",
    "            None\n",
    "        else:\n",
    "            dt_from = [y, m, '1', '00:00:00']\n",
    "            dt_to = [y, m, monthrange(y, m)[1], '23:59:59']\n",
    "            Sdt_from = dtConvert(' '.join(str(v) for v in dt_from))\n",
    "            Sdt_to = dtConvert(' '.join(str(v) for v in dt_to))\n",
    "            queryResult(Sdt_from, Sdt_to, y, m)\n",
    "\n",
    "# 輸出結果矩陣\n",
    "df1 = pd.DataFrame(dict([(k,Series(v)) for k,v in Month_Tweets.iteritems()])) # 將沒有資料的欄位填上 NaN\n",
    "df2 = pd.DataFrame(dict([(k,Series(v)) for k,v in Month_Twitter.iteritems()])) # 將沒有資料的欄位填上 NaN\n",
    "print df1, \"\\n\"\n",
    "print df2"
   ]
  },
  {
   "cell_type": "code",
   "execution_count": 2,
   "metadata": {
    "collapsed": false
   },
   "outputs": [
    {
     "name": "stderr",
     "output_type": "stream",
     "text": [
      "//anaconda/lib/python2.7/site-packages/seaborn/categorical.py:2171: UserWarning: The boxplot API has been changed. Attempting to adjust your arguments for the new API (which might not work). Please update your code. See the version 0.6 release notes for more info.\n",
      "  warnings.warn(msg, UserWarning)\n"
     ]
    },
    {
     "data": {
      "image/png": "[encoded data removed]",
      "text/plain": [
       "<matplotlib.figure.Figure at 0x1044e0fd0>"
      ]
     },
     "metadata": {},
     "output_type": "display_data"
    }
   ],
   "source": [
    "%matplotlib inline\n",
    "ax = sb.boxplot(df1, vert=True, showmeans=True)"
   ]
  },
  {
   "cell_type": "code",
   "execution_count": 3,
   "metadata": {
    "collapsed": false
   },
   "outputs": [
    {
     "data": {
      "image/png": "[encoded data removed]",
      "text/plain": [
       "<matplotlib.figure.Figure at 0x1142d52d0>"
      ]
     },
     "metadata": {},
     "output_type": "display_data"
    }
   ],
   "source": [
    "%matplotlib inline\n",
    "ax = sb.boxplot(df2, vert=True, showmeans=True)"
   ]
  },
  {
   "cell_type": "code",
   "execution_count": null,
   "metadata": {
    "collapsed": true
   },
   "outputs": [],
   "source": []
  }
 ],
 "metadata": {
  "kernelspec": {
   "display_name": "Python [conda root]",
   "language": "python",
   "name": "conda-root-py"
  },
  "language_info": {
   "codemirror_mode": {
    "name": "ipython",
    "version": 2
   },
   "file_extension": ".py",
   "mimetype": "text/x-python",
   "name": "python",
   "nbconvert_exporter": "python",
   "pygments_lexer": "ipython2",
   "version": "2.7.12"
  }
 },
 "nbformat": 4,
 "nbformat_minor": 1
}
